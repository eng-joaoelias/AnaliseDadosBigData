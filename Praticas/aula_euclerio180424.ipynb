{
 "cells": [
  {
   "cell_type": "markdown",
   "id": "b173b47d-6906-47c8-a14f-686f627a0173",
   "metadata": {},
   "source": [
    "# Assuntos\n",
    "### DADOS AUSENTES\n",
    "### GROUP BY\n",
    "### DATASET"
   ]
  },
  {
   "cell_type": "code",
   "execution_count": 1,
   "id": "c710c3ba-7550-4495-bc0f-14d0767f4a78",
   "metadata": {},
   "outputs": [],
   "source": [
    "import pandas as pd\n",
    "import numpy as np"
   ]
  },
  {
   "cell_type": "code",
   "execution_count": 13,
   "id": "58a86afe-e587-4043-a3ef-bc7025d6a06e",
   "metadata": {},
   "outputs": [],
   "source": [
    "df = pd.DataFrame(\n",
    "    {\n",
    "        'A': [1, 2, np.nan],\n",
    "        'B': [5, np.nan, np.nan],\n",
    "        'C': [1, 2, 3],\n",
    "        'D': [20, 0, 'no data']\n",
    "    }\n",
    ")"
   ]
  },
  {
   "cell_type": "code",
   "execution_count": 4,
   "id": "d78fde2a-9de4-46e9-a262-f37d3154f8bd",
   "metadata": {},
   "outputs": [
    {
     "name": "stdout",
     "output_type": "stream",
     "text": [
      "     A    B  C        D\n",
      "0  1.0  5.0  1       20\n",
      "1  2.0  NaN  2        0\n",
      "2  NaN  NaN  3  no data \n",
      "\n"
     ]
    }
   ],
   "source": [
    "print(df, '\\n')"
   ]
  },
  {
   "cell_type": "code",
   "execution_count": 8,
   "id": "7f87ae13-3c74-48d1-89e3-a298b59e12d1",
   "metadata": {},
   "outputs": [
    {
     "name": "stdout",
     "output_type": "stream",
     "text": [
      "   C        D\n",
      "0  1       20\n",
      "1  2        0\n",
      "2  3  no data\n"
     ]
    }
   ],
   "source": [
    "print(df.dropna(axis = 1)) #remove as colunas que tem dados nan. nao eh boa pratica"
   ]
  },
  {
   "cell_type": "code",
   "execution_count": 10,
   "id": "dc514f8d-1d5e-432a-bc01-84a7a350e18f",
   "metadata": {},
   "outputs": [
    {
     "name": "stdout",
     "output_type": "stream",
     "text": [
      "0    False\n",
      "1    False\n",
      "2     True\n",
      "Name: A, dtype: bool\n"
     ]
    }
   ],
   "source": [
    "print(df['A'].isnull()) #pergunta pro dataset onde ha vazios"
   ]
  },
  {
   "cell_type": "code",
   "execution_count": 11,
   "id": "0757a5bc-d5ea-4689-82ab-519e3b6e2fec",
   "metadata": {},
   "outputs": [
    {
     "data": {
      "text/plain": [
       "B\n",
       "True     2\n",
       "False    1\n",
       "Name: count, dtype: int64"
      ]
     },
     "execution_count": 11,
     "metadata": {},
     "output_type": "execute_result"
    }
   ],
   "source": [
    "df['B'].isnull().value_counts() #pergunta se ha vazio e retorna a quantidade de vazios e preenchidos."
   ]
  },
  {
   "cell_type": "code",
   "execution_count": 12,
   "id": "08699591-95a1-406a-b396-8d77cc95bebc",
   "metadata": {},
   "outputs": [
    {
     "data": {
      "text/plain": [
       "0    1.0\n",
       "1    2.0\n",
       "2    1.5\n",
       "Name: A, dtype: float64"
      ]
     },
     "execution_count": 12,
     "metadata": {},
     "output_type": "execute_result"
    }
   ],
   "source": [
    "df['A'].fillna(value = df['A'].mean()) #completa os vazios da coluna A com a media de A"
   ]
  },
  {
   "cell_type": "code",
   "execution_count": 14,
   "id": "df9761c6-cdff-4b34-b309-756a7bae6af8",
   "metadata": {},
   "outputs": [
    {
     "data": {
      "text/plain": [
       "0    1.0\n",
       "1    2.0\n",
       "2    2.0\n",
       "Name: A, dtype: float64"
      ]
     },
     "execution_count": 14,
     "metadata": {},
     "output_type": "execute_result"
    }
   ],
   "source": [
    "df['A'].ffill() #Coloca os valores NaN com o ultimo que vem antes. No caso, era 1, 2, nan. O dois passou pro NaN."
   ]
  },
  {
   "cell_type": "code",
   "execution_count": 15,
   "id": "003341d2-c940-44e0-9c32-f3c003d1c42b",
   "metadata": {},
   "outputs": [],
   "source": [
    "from datetime import datetime, timedelta"
   ]
  },
  {
   "cell_type": "code",
   "execution_count": 17,
   "id": "fb2cd5e0-6b5c-4e44-b43b-54682cd51f96",
   "metadata": {},
   "outputs": [],
   "source": [
    "time = pd.to_datetime('2020-05-10')"
   ]
  },
  {
   "cell_type": "code",
   "execution_count": 18,
   "id": "59e584bf-1a96-4feb-a399-282d568cffe9",
   "metadata": {},
   "outputs": [
    {
     "data": {
      "text/plain": [
       "datetime.date(2020, 5, 10)"
      ]
     },
     "execution_count": 18,
     "metadata": {},
     "output_type": "execute_result"
    }
   ],
   "source": [
    "time.date()"
   ]
  },
  {
   "cell_type": "code",
   "execution_count": 20,
   "id": "f7a15dd0-df01-4781-bd3a-8434c4fa2776",
   "metadata": {},
   "outputs": [
    {
     "data": {
      "text/plain": [
       "2020"
      ]
     },
     "execution_count": 20,
     "metadata": {},
     "output_type": "execute_result"
    }
   ],
   "source": [
    "time.year"
   ]
  },
  {
   "cell_type": "code",
   "execution_count": 21,
   "id": "4527613b-420d-467b-819f-b0099697f318",
   "metadata": {},
   "outputs": [
    {
     "data": {
      "text/plain": [
       "10"
      ]
     },
     "execution_count": 21,
     "metadata": {},
     "output_type": "execute_result"
    }
   ],
   "source": [
    "time.day"
   ]
  },
  {
   "cell_type": "code",
   "execution_count": 30,
   "id": "19fd8753-7395-4411-9de1-e639efb39ed9",
   "metadata": {},
   "outputs": [
    {
     "data": {
      "text/plain": [
       "Timestamp('2020-05-15 00:00:00')"
      ]
     },
     "execution_count": 30,
     "metadata": {},
     "output_type": "execute_result"
    }
   ],
   "source": [
    "time + timedelta(days = 5) #soma 5 dias na data armazenada"
   ]
  },
  {
   "cell_type": "markdown",
   "id": "0a140985-d22f-48a3-b5be-c821ddcdf1d2",
   "metadata": {},
   "source": [
    "#### GroupBy"
   ]
  },
  {
   "cell_type": "code",
   "execution_count": 36,
   "id": "b53bbdec-3c1f-43d9-855e-56c890b1a998",
   "metadata": {},
   "outputs": [],
   "source": [
    "data = {\n",
    "    'Empresa': ['CASAS_BAHIA', 'CASAS_BAHIA', 'MAGAZINE_L', 'MAGAZINE_L', 'SHOPEE', 'SHOPEE'],\n",
    "    'Nome': ['Samuel', 'Dennis', 'Roberta', 'Patrícia', 'Bruno', 'Vera'],\n",
    "    'Venda': [200, 120, 340, 124, 243, 350]\n",
    "}\n",
    "df = pd.DataFrame(data)"
   ]
  },
  {
   "cell_type": "code",
   "execution_count": 37,
   "id": "e34d22da-9ee7-4b4d-9bef-86aa58c585c4",
   "metadata": {},
   "outputs": [
    {
     "data": {
      "text/html": [
       "<div>\n",
       "<style scoped>\n",
       "    .dataframe tbody tr th:only-of-type {\n",
       "        vertical-align: middle;\n",
       "    }\n",
       "\n",
       "    .dataframe tbody tr th {\n",
       "        vertical-align: top;\n",
       "    }\n",
       "\n",
       "    .dataframe thead th {\n",
       "        text-align: right;\n",
       "    }\n",
       "</style>\n",
       "<table border=\"1\" class=\"dataframe\">\n",
       "  <thead>\n",
       "    <tr style=\"text-align: right;\">\n",
       "      <th></th>\n",
       "      <th>Empresa</th>\n",
       "      <th>Nome</th>\n",
       "      <th>Venda</th>\n",
       "    </tr>\n",
       "  </thead>\n",
       "  <tbody>\n",
       "    <tr>\n",
       "      <th>0</th>\n",
       "      <td>CASAS_BAHIA</td>\n",
       "      <td>Samuel</td>\n",
       "      <td>200</td>\n",
       "    </tr>\n",
       "    <tr>\n",
       "      <th>1</th>\n",
       "      <td>CASAS_BAHIA</td>\n",
       "      <td>Dennis</td>\n",
       "      <td>120</td>\n",
       "    </tr>\n",
       "    <tr>\n",
       "      <th>2</th>\n",
       "      <td>MAGAZINE_L</td>\n",
       "      <td>Roberta</td>\n",
       "      <td>340</td>\n",
       "    </tr>\n",
       "    <tr>\n",
       "      <th>3</th>\n",
       "      <td>MAGAZINE_L</td>\n",
       "      <td>Patrícia</td>\n",
       "      <td>124</td>\n",
       "    </tr>\n",
       "    <tr>\n",
       "      <th>4</th>\n",
       "      <td>SHOPEE</td>\n",
       "      <td>Bruno</td>\n",
       "      <td>243</td>\n",
       "    </tr>\n",
       "    <tr>\n",
       "      <th>5</th>\n",
       "      <td>SHOPEE</td>\n",
       "      <td>Vera</td>\n",
       "      <td>350</td>\n",
       "    </tr>\n",
       "  </tbody>\n",
       "</table>\n",
       "</div>"
      ],
      "text/plain": [
       "       Empresa      Nome  Venda\n",
       "0  CASAS_BAHIA    Samuel    200\n",
       "1  CASAS_BAHIA    Dennis    120\n",
       "2   MAGAZINE_L   Roberta    340\n",
       "3   MAGAZINE_L  Patrícia    124\n",
       "4       SHOPEE     Bruno    243\n",
       "5       SHOPEE      Vera    350"
      ]
     },
     "execution_count": 37,
     "metadata": {},
     "output_type": "execute_result"
    }
   ],
   "source": [
    "df"
   ]
  },
  {
   "cell_type": "code",
   "execution_count": 45,
   "id": "0db2f767-5749-4cf6-a6a1-1034f54f3c4f",
   "metadata": {},
   "outputs": [],
   "source": [
    "por_empresa = df.groupby('Empresa')"
   ]
  },
  {
   "cell_type": "code",
   "execution_count": 46,
   "id": "64ebb542-fcd3-431a-b1d1-71a76a798704",
   "metadata": {},
   "outputs": [
    {
     "data": {
      "text/html": [
       "<div>\n",
       "<style scoped>\n",
       "    .dataframe tbody tr th:only-of-type {\n",
       "        vertical-align: middle;\n",
       "    }\n",
       "\n",
       "    .dataframe tbody tr th {\n",
       "        vertical-align: top;\n",
       "    }\n",
       "\n",
       "    .dataframe thead th {\n",
       "        text-align: right;\n",
       "    }\n",
       "</style>\n",
       "<table border=\"1\" class=\"dataframe\">\n",
       "  <thead>\n",
       "    <tr style=\"text-align: right;\">\n",
       "      <th></th>\n",
       "      <th>Venda</th>\n",
       "    </tr>\n",
       "    <tr>\n",
       "      <th>Empresa</th>\n",
       "      <th></th>\n",
       "    </tr>\n",
       "  </thead>\n",
       "  <tbody>\n",
       "    <tr>\n",
       "      <th>CASAS_BAHIA</th>\n",
       "      <td>160.0</td>\n",
       "    </tr>\n",
       "    <tr>\n",
       "      <th>MAGAZINE_L</th>\n",
       "      <td>232.0</td>\n",
       "    </tr>\n",
       "    <tr>\n",
       "      <th>SHOPEE</th>\n",
       "      <td>296.5</td>\n",
       "    </tr>\n",
       "  </tbody>\n",
       "</table>\n",
       "</div>"
      ],
      "text/plain": [
       "             Venda\n",
       "Empresa           \n",
       "CASAS_BAHIA  160.0\n",
       "MAGAZINE_L   232.0\n",
       "SHOPEE       296.5"
      ]
     },
     "execution_count": 46,
     "metadata": {},
     "output_type": "execute_result"
    }
   ],
   "source": [
    "por_empresa.mean(numeric_only = True) #media"
   ]
  },
  {
   "cell_type": "code",
   "execution_count": 47,
   "id": "53340084-74f1-45d9-b3b1-7da7fb94eef4",
   "metadata": {},
   "outputs": [
    {
     "data": {
      "text/html": [
       "<div>\n",
       "<style scoped>\n",
       "    .dataframe tbody tr th:only-of-type {\n",
       "        vertical-align: middle;\n",
       "    }\n",
       "\n",
       "    .dataframe tbody tr th {\n",
       "        vertical-align: top;\n",
       "    }\n",
       "\n",
       "    .dataframe thead th {\n",
       "        text-align: right;\n",
       "    }\n",
       "</style>\n",
       "<table border=\"1\" class=\"dataframe\">\n",
       "  <thead>\n",
       "    <tr style=\"text-align: right;\">\n",
       "      <th></th>\n",
       "      <th>Venda</th>\n",
       "    </tr>\n",
       "    <tr>\n",
       "      <th>Empresa</th>\n",
       "      <th></th>\n",
       "    </tr>\n",
       "  </thead>\n",
       "  <tbody>\n",
       "    <tr>\n",
       "      <th>CASAS_BAHIA</th>\n",
       "      <td>56.568542</td>\n",
       "    </tr>\n",
       "    <tr>\n",
       "      <th>MAGAZINE_L</th>\n",
       "      <td>152.735065</td>\n",
       "    </tr>\n",
       "    <tr>\n",
       "      <th>SHOPEE</th>\n",
       "      <td>75.660426</td>\n",
       "    </tr>\n",
       "  </tbody>\n",
       "</table>\n",
       "</div>"
      ],
      "text/plain": [
       "                  Venda\n",
       "Empresa                \n",
       "CASAS_BAHIA   56.568542\n",
       "MAGAZINE_L   152.735065\n",
       "SHOPEE        75.660426"
      ]
     },
     "execution_count": 47,
     "metadata": {},
     "output_type": "execute_result"
    }
   ],
   "source": [
    "por_empresa.std(numeric_only = True) #desvio padrao"
   ]
  },
  {
   "cell_type": "code",
   "execution_count": 48,
   "id": "f3be3696-f390-4cc7-ae6e-175c04cf6da7",
   "metadata": {},
   "outputs": [
    {
     "data": {
      "text/html": [
       "<div>\n",
       "<style scoped>\n",
       "    .dataframe tbody tr th:only-of-type {\n",
       "        vertical-align: middle;\n",
       "    }\n",
       "\n",
       "    .dataframe tbody tr th {\n",
       "        vertical-align: top;\n",
       "    }\n",
       "\n",
       "    .dataframe thead th {\n",
       "        text-align: right;\n",
       "    }\n",
       "</style>\n",
       "<table border=\"1\" class=\"dataframe\">\n",
       "  <thead>\n",
       "    <tr style=\"text-align: right;\">\n",
       "      <th></th>\n",
       "      <th>Venda</th>\n",
       "    </tr>\n",
       "    <tr>\n",
       "      <th>Empresa</th>\n",
       "      <th></th>\n",
       "    </tr>\n",
       "  </thead>\n",
       "  <tbody>\n",
       "    <tr>\n",
       "      <th>CASAS_BAHIA</th>\n",
       "      <td>120</td>\n",
       "    </tr>\n",
       "    <tr>\n",
       "      <th>MAGAZINE_L</th>\n",
       "      <td>124</td>\n",
       "    </tr>\n",
       "    <tr>\n",
       "      <th>SHOPEE</th>\n",
       "      <td>243</td>\n",
       "    </tr>\n",
       "  </tbody>\n",
       "</table>\n",
       "</div>"
      ],
      "text/plain": [
       "             Venda\n",
       "Empresa           \n",
       "CASAS_BAHIA    120\n",
       "MAGAZINE_L     124\n",
       "SHOPEE         243"
      ]
     },
     "execution_count": 48,
     "metadata": {},
     "output_type": "execute_result"
    }
   ],
   "source": [
    "por_empresa.min(numeric_only = True) #valor min de cada empresa"
   ]
  },
  {
   "cell_type": "code",
   "execution_count": 50,
   "id": "2cded3e7-8597-4566-aa14-7f111d4cbb01",
   "metadata": {},
   "outputs": [
    {
     "data": {
      "text/html": [
       "<div>\n",
       "<style scoped>\n",
       "    .dataframe tbody tr th:only-of-type {\n",
       "        vertical-align: middle;\n",
       "    }\n",
       "\n",
       "    .dataframe tbody tr th {\n",
       "        vertical-align: top;\n",
       "    }\n",
       "\n",
       "    .dataframe thead th {\n",
       "        text-align: right;\n",
       "    }\n",
       "</style>\n",
       "<table border=\"1\" class=\"dataframe\">\n",
       "  <thead>\n",
       "    <tr style=\"text-align: right;\">\n",
       "      <th></th>\n",
       "      <th>Venda</th>\n",
       "    </tr>\n",
       "    <tr>\n",
       "      <th>Empresa</th>\n",
       "      <th></th>\n",
       "    </tr>\n",
       "  </thead>\n",
       "  <tbody>\n",
       "    <tr>\n",
       "      <th>CASAS_BAHIA</th>\n",
       "      <td>200</td>\n",
       "    </tr>\n",
       "    <tr>\n",
       "      <th>MAGAZINE_L</th>\n",
       "      <td>340</td>\n",
       "    </tr>\n",
       "    <tr>\n",
       "      <th>SHOPEE</th>\n",
       "      <td>350</td>\n",
       "    </tr>\n",
       "  </tbody>\n",
       "</table>\n",
       "</div>"
      ],
      "text/plain": [
       "             Venda\n",
       "Empresa           \n",
       "CASAS_BAHIA    200\n",
       "MAGAZINE_L     340\n",
       "SHOPEE         350"
      ]
     },
     "execution_count": 50,
     "metadata": {},
     "output_type": "execute_result"
    }
   ],
   "source": [
    "por_empresa.max(numeric_only = True) #valor max de cada empresa"
   ]
  },
  {
   "cell_type": "code",
   "execution_count": 52,
   "id": "20425ad0-2570-4651-bde8-2c1673c0ee00",
   "metadata": {},
   "outputs": [
    {
     "data": {
      "text/html": [
       "<div>\n",
       "<style scoped>\n",
       "    .dataframe tbody tr th:only-of-type {\n",
       "        vertical-align: middle;\n",
       "    }\n",
       "\n",
       "    .dataframe tbody tr th {\n",
       "        vertical-align: top;\n",
       "    }\n",
       "\n",
       "    .dataframe thead th {\n",
       "        text-align: right;\n",
       "    }\n",
       "</style>\n",
       "<table border=\"1\" class=\"dataframe\">\n",
       "  <thead>\n",
       "    <tr style=\"text-align: right;\">\n",
       "      <th></th>\n",
       "      <th>Nome</th>\n",
       "      <th>Venda</th>\n",
       "    </tr>\n",
       "    <tr>\n",
       "      <th>Empresa</th>\n",
       "      <th></th>\n",
       "      <th></th>\n",
       "    </tr>\n",
       "  </thead>\n",
       "  <tbody>\n",
       "    <tr>\n",
       "      <th>CASAS_BAHIA</th>\n",
       "      <td>2</td>\n",
       "      <td>2</td>\n",
       "    </tr>\n",
       "    <tr>\n",
       "      <th>MAGAZINE_L</th>\n",
       "      <td>2</td>\n",
       "      <td>2</td>\n",
       "    </tr>\n",
       "    <tr>\n",
       "      <th>SHOPEE</th>\n",
       "      <td>2</td>\n",
       "      <td>2</td>\n",
       "    </tr>\n",
       "  </tbody>\n",
       "</table>\n",
       "</div>"
      ],
      "text/plain": [
       "             Nome  Venda\n",
       "Empresa                 \n",
       "CASAS_BAHIA     2      2\n",
       "MAGAZINE_L      2      2\n",
       "SHOPEE          2      2"
      ]
     },
     "execution_count": 52,
     "metadata": {},
     "output_type": "execute_result"
    }
   ],
   "source": [
    "por_empresa.count() #contagem de instancias de cada empresa"
   ]
  },
  {
   "cell_type": "code",
   "execution_count": 53,
   "id": "b8611f15-5d2e-4cdc-af68-6117d628159e",
   "metadata": {},
   "outputs": [
    {
     "data": {
      "text/html": [
       "<div>\n",
       "<style scoped>\n",
       "    .dataframe tbody tr th:only-of-type {\n",
       "        vertical-align: middle;\n",
       "    }\n",
       "\n",
       "    .dataframe tbody tr th {\n",
       "        vertical-align: top;\n",
       "    }\n",
       "\n",
       "    .dataframe thead tr th {\n",
       "        text-align: left;\n",
       "    }\n",
       "\n",
       "    .dataframe thead tr:last-of-type th {\n",
       "        text-align: right;\n",
       "    }\n",
       "</style>\n",
       "<table border=\"1\" class=\"dataframe\">\n",
       "  <thead>\n",
       "    <tr>\n",
       "      <th></th>\n",
       "      <th colspan=\"8\" halign=\"left\">Venda</th>\n",
       "    </tr>\n",
       "    <tr>\n",
       "      <th></th>\n",
       "      <th>count</th>\n",
       "      <th>mean</th>\n",
       "      <th>std</th>\n",
       "      <th>min</th>\n",
       "      <th>25%</th>\n",
       "      <th>50%</th>\n",
       "      <th>75%</th>\n",
       "      <th>max</th>\n",
       "    </tr>\n",
       "    <tr>\n",
       "      <th>Empresa</th>\n",
       "      <th></th>\n",
       "      <th></th>\n",
       "      <th></th>\n",
       "      <th></th>\n",
       "      <th></th>\n",
       "      <th></th>\n",
       "      <th></th>\n",
       "      <th></th>\n",
       "    </tr>\n",
       "  </thead>\n",
       "  <tbody>\n",
       "    <tr>\n",
       "      <th>CASAS_BAHIA</th>\n",
       "      <td>2.0</td>\n",
       "      <td>160.0</td>\n",
       "      <td>56.568542</td>\n",
       "      <td>120.0</td>\n",
       "      <td>140.00</td>\n",
       "      <td>160.0</td>\n",
       "      <td>180.00</td>\n",
       "      <td>200.0</td>\n",
       "    </tr>\n",
       "    <tr>\n",
       "      <th>MAGAZINE_L</th>\n",
       "      <td>2.0</td>\n",
       "      <td>232.0</td>\n",
       "      <td>152.735065</td>\n",
       "      <td>124.0</td>\n",
       "      <td>178.00</td>\n",
       "      <td>232.0</td>\n",
       "      <td>286.00</td>\n",
       "      <td>340.0</td>\n",
       "    </tr>\n",
       "    <tr>\n",
       "      <th>SHOPEE</th>\n",
       "      <td>2.0</td>\n",
       "      <td>296.5</td>\n",
       "      <td>75.660426</td>\n",
       "      <td>243.0</td>\n",
       "      <td>269.75</td>\n",
       "      <td>296.5</td>\n",
       "      <td>323.25</td>\n",
       "      <td>350.0</td>\n",
       "    </tr>\n",
       "  </tbody>\n",
       "</table>\n",
       "</div>"
      ],
      "text/plain": [
       "            Venda                                                        \n",
       "            count   mean         std    min     25%    50%     75%    max\n",
       "Empresa                                                                  \n",
       "CASAS_BAHIA   2.0  160.0   56.568542  120.0  140.00  160.0  180.00  200.0\n",
       "MAGAZINE_L    2.0  232.0  152.735065  124.0  178.00  232.0  286.00  340.0\n",
       "SHOPEE        2.0  296.5   75.660426  243.0  269.75  296.5  323.25  350.0"
      ]
     },
     "execution_count": 53,
     "metadata": {},
     "output_type": "execute_result"
    }
   ],
   "source": [
    "por_empresa.describe()"
   ]
  },
  {
   "cell_type": "code",
   "execution_count": 54,
   "id": "539419f0-26f2-4ed3-96dd-e272f0db6a13",
   "metadata": {},
   "outputs": [
    {
     "data": {
      "text/html": [
       "<div>\n",
       "<style scoped>\n",
       "    .dataframe tbody tr th:only-of-type {\n",
       "        vertical-align: middle;\n",
       "    }\n",
       "\n",
       "    .dataframe tbody tr th {\n",
       "        vertical-align: top;\n",
       "    }\n",
       "\n",
       "    .dataframe thead th {\n",
       "        text-align: right;\n",
       "    }\n",
       "</style>\n",
       "<table border=\"1\" class=\"dataframe\">\n",
       "  <thead>\n",
       "    <tr style=\"text-align: right;\">\n",
       "      <th></th>\n",
       "      <th>Empresa</th>\n",
       "      <th>CASAS_BAHIA</th>\n",
       "      <th>MAGAZINE_L</th>\n",
       "      <th>SHOPEE</th>\n",
       "    </tr>\n",
       "  </thead>\n",
       "  <tbody>\n",
       "    <tr>\n",
       "      <th rowspan=\"8\" valign=\"top\">Venda</th>\n",
       "      <th>count</th>\n",
       "      <td>2.000000</td>\n",
       "      <td>2.000000</td>\n",
       "      <td>2.000000</td>\n",
       "    </tr>\n",
       "    <tr>\n",
       "      <th>mean</th>\n",
       "      <td>160.000000</td>\n",
       "      <td>232.000000</td>\n",
       "      <td>296.500000</td>\n",
       "    </tr>\n",
       "    <tr>\n",
       "      <th>std</th>\n",
       "      <td>56.568542</td>\n",
       "      <td>152.735065</td>\n",
       "      <td>75.660426</td>\n",
       "    </tr>\n",
       "    <tr>\n",
       "      <th>min</th>\n",
       "      <td>120.000000</td>\n",
       "      <td>124.000000</td>\n",
       "      <td>243.000000</td>\n",
       "    </tr>\n",
       "    <tr>\n",
       "      <th>25%</th>\n",
       "      <td>140.000000</td>\n",
       "      <td>178.000000</td>\n",
       "      <td>269.750000</td>\n",
       "    </tr>\n",
       "    <tr>\n",
       "      <th>50%</th>\n",
       "      <td>160.000000</td>\n",
       "      <td>232.000000</td>\n",
       "      <td>296.500000</td>\n",
       "    </tr>\n",
       "    <tr>\n",
       "      <th>75%</th>\n",
       "      <td>180.000000</td>\n",
       "      <td>286.000000</td>\n",
       "      <td>323.250000</td>\n",
       "    </tr>\n",
       "    <tr>\n",
       "      <th>max</th>\n",
       "      <td>200.000000</td>\n",
       "      <td>340.000000</td>\n",
       "      <td>350.000000</td>\n",
       "    </tr>\n",
       "  </tbody>\n",
       "</table>\n",
       "</div>"
      ],
      "text/plain": [
       "Empresa      CASAS_BAHIA  MAGAZINE_L      SHOPEE\n",
       "Venda count     2.000000    2.000000    2.000000\n",
       "      mean    160.000000  232.000000  296.500000\n",
       "      std      56.568542  152.735065   75.660426\n",
       "      min     120.000000  124.000000  243.000000\n",
       "      25%     140.000000  178.000000  269.750000\n",
       "      50%     160.000000  232.000000  296.500000\n",
       "      75%     180.000000  286.000000  323.250000\n",
       "      max     200.000000  340.000000  350.000000"
      ]
     },
     "execution_count": 54,
     "metadata": {},
     "output_type": "execute_result"
    }
   ],
   "source": [
    "por_empresa.describe().transpose() #transposta"
   ]
  },
  {
   "cell_type": "code",
   "execution_count": 55,
   "id": "e658c643-4344-423c-a79d-22939e3a8d6e",
   "metadata": {},
   "outputs": [
    {
     "data": {
      "text/plain": [
       "Venda  count      2.000000\n",
       "       mean     160.000000\n",
       "       std       56.568542\n",
       "       min      120.000000\n",
       "       25%      140.000000\n",
       "       50%      160.000000\n",
       "       75%      180.000000\n",
       "       max      200.000000\n",
       "Name: CASAS_BAHIA, dtype: float64"
      ]
     },
     "execution_count": 55,
     "metadata": {},
     "output_type": "execute_result"
    }
   ],
   "source": [
    "por_empresa.describe().transpose()['casas_bahia'.upper()] #informacoes estatisticas da casas bahia"
   ]
  },
  {
   "cell_type": "code",
   "execution_count": 57,
   "id": "c98fc462-b269-45fa-ab73-9d12b090d9e7",
   "metadata": {},
   "outputs": [],
   "source": [
    "frames = {\n",
    "    'Classe': \"Jr Jr Pl Pl Sr Sr\".split(),\n",
    "    'Nome': 'Brunnete Julia Camila Freddie Nikolas Salomao'.split(),\n",
    "    'Venda': [200, 120, 340, 124, 243, 3560]\n",
    "}"
   ]
  },
  {
   "cell_type": "markdown",
   "id": "d459fa75-5d62-4bb7-8ff6-d2cf08b68db4",
   "metadata": {},
   "source": [
    "#### Exercícios\n",
    "- 1) Com frames, gere o dataframe.\n",
    "- 2) Filtre \"Vendas\", valores maiores que 300\n",
    "- 3) Me retorne as informações somadas das vendas com base no cargo\n",
    "- 4) Gere um DF2, com as informações de vendas modificadas\n",
    "- 5) Concatene os datasets\n",
    "- 6) Retorne o Dataframe com a soma de vendas por cargo ,por nome"
   ]
  },
  {
   "cell_type": "code",
   "execution_count": 63,
   "id": "8262d479-7677-4a90-9107-867c80971602",
   "metadata": {},
   "outputs": [
    {
     "name": "stdout",
     "output_type": "stream",
     "text": [
      "  Classe      Nome  Venda\n",
      "0     Jr  Brunnete    200\n",
      "1     Jr     Julia    120\n",
      "2     Pl    Camila    340\n",
      "3     Pl   Freddie    124\n",
      "4     Sr   Nikolas    243\n",
      "5     Sr   Salomao   3560\n"
     ]
    }
   ],
   "source": [
    "#questao 01\n",
    "df_frames = pd.DataFrame(frames)\n",
    "print(df_frames)"
   ]
  },
  {
   "cell_type": "code",
   "execution_count": 61,
   "id": "3f22ed1c-13ae-4fb8-9bdb-7b01790084fb",
   "metadata": {},
   "outputs": [
    {
     "name": "stdout",
     "output_type": "stream",
     "text": [
      "  Classe     Nome  Venda\n",
      "2     Pl   Camila    340\n",
      "5     Sr  Salomao   3560\n"
     ]
    }
   ],
   "source": [
    "#questao 02\n",
    "df_maior300 = df_frames[df_frames['Venda'] > 300]\n",
    "print(df_maior300)"
   ]
  },
  {
   "cell_type": "code",
   "execution_count": 69,
   "id": "5c9e9243-f8bc-4e63-b619-20a431c471a3",
   "metadata": {},
   "outputs": [
    {
     "data": {
      "text/html": [
       "<div>\n",
       "<style scoped>\n",
       "    .dataframe tbody tr th:only-of-type {\n",
       "        vertical-align: middle;\n",
       "    }\n",
       "\n",
       "    .dataframe tbody tr th {\n",
       "        vertical-align: top;\n",
       "    }\n",
       "\n",
       "    .dataframe thead th {\n",
       "        text-align: right;\n",
       "    }\n",
       "</style>\n",
       "<table border=\"1\" class=\"dataframe\">\n",
       "  <thead>\n",
       "    <tr style=\"text-align: right;\">\n",
       "      <th></th>\n",
       "      <th>Nome</th>\n",
       "      <th>Venda</th>\n",
       "    </tr>\n",
       "    <tr>\n",
       "      <th>Classe</th>\n",
       "      <th></th>\n",
       "      <th></th>\n",
       "    </tr>\n",
       "  </thead>\n",
       "  <tbody>\n",
       "    <tr>\n",
       "      <th>Jr</th>\n",
       "      <td>BrunneteJulia</td>\n",
       "      <td>320</td>\n",
       "    </tr>\n",
       "    <tr>\n",
       "      <th>Pl</th>\n",
       "      <td>CamilaFreddie</td>\n",
       "      <td>464</td>\n",
       "    </tr>\n",
       "    <tr>\n",
       "      <th>Sr</th>\n",
       "      <td>NikolasSalomao</td>\n",
       "      <td>3803</td>\n",
       "    </tr>\n",
       "  </tbody>\n",
       "</table>\n",
       "</div>"
      ],
      "text/plain": [
       "                  Nome  Venda\n",
       "Classe                       \n",
       "Jr       BrunneteJulia    320\n",
       "Pl       CamilaFreddie    464\n",
       "Sr      NikolasSalomao   3803"
      ]
     },
     "execution_count": 69,
     "metadata": {},
     "output_type": "execute_result"
    }
   ],
   "source": [
    "#questao 03\n",
    "df_cargo = df_frames.groupby('Classe')\n",
    "df_cargo.sum()"
   ]
  },
  {
   "cell_type": "code",
   "execution_count": 72,
   "id": "0c3126c8-482c-4d5e-adce-a125c7724d0a",
   "metadata": {},
   "outputs": [
    {
     "data": {
      "text/html": [
       "<div>\n",
       "<style scoped>\n",
       "    .dataframe tbody tr th:only-of-type {\n",
       "        vertical-align: middle;\n",
       "    }\n",
       "\n",
       "    .dataframe tbody tr th {\n",
       "        vertical-align: top;\n",
       "    }\n",
       "\n",
       "    .dataframe thead th {\n",
       "        text-align: right;\n",
       "    }\n",
       "</style>\n",
       "<table border=\"1\" class=\"dataframe\">\n",
       "  <thead>\n",
       "    <tr style=\"text-align: right;\">\n",
       "      <th></th>\n",
       "      <th>Classe</th>\n",
       "      <th>Nome</th>\n",
       "      <th>Venda</th>\n",
       "    </tr>\n",
       "  </thead>\n",
       "  <tbody>\n",
       "    <tr>\n",
       "      <th>0</th>\n",
       "      <td>Jr</td>\n",
       "      <td>Brunnete</td>\n",
       "      <td>500</td>\n",
       "    </tr>\n",
       "    <tr>\n",
       "      <th>1</th>\n",
       "      <td>Jr</td>\n",
       "      <td>Julia</td>\n",
       "      <td>20</td>\n",
       "    </tr>\n",
       "    <tr>\n",
       "      <th>2</th>\n",
       "      <td>Pl</td>\n",
       "      <td>Camila</td>\n",
       "      <td>740</td>\n",
       "    </tr>\n",
       "    <tr>\n",
       "      <th>3</th>\n",
       "      <td>Pl</td>\n",
       "      <td>Freddie</td>\n",
       "      <td>324</td>\n",
       "    </tr>\n",
       "    <tr>\n",
       "      <th>4</th>\n",
       "      <td>Sr</td>\n",
       "      <td>Nikolas</td>\n",
       "      <td>203</td>\n",
       "    </tr>\n",
       "    <tr>\n",
       "      <th>5</th>\n",
       "      <td>Sr</td>\n",
       "      <td>Salomao</td>\n",
       "      <td>6560</td>\n",
       "    </tr>\n",
       "  </tbody>\n",
       "</table>\n",
       "</div>"
      ],
      "text/plain": [
       "  Classe      Nome  Venda\n",
       "0     Jr  Brunnete    500\n",
       "1     Jr     Julia     20\n",
       "2     Pl    Camila    740\n",
       "3     Pl   Freddie    324\n",
       "4     Sr   Nikolas    203\n",
       "5     Sr   Salomao   6560"
      ]
     },
     "execution_count": 72,
     "metadata": {},
     "output_type": "execute_result"
    }
   ],
   "source": [
    "#questao 04\n",
    "frames2 = {\n",
    "    'Classe': \"Jr Jr Pl Pl Sr Sr\".split(),\n",
    "    'Nome': 'Brunnete Julia Camila Freddie Nikolas Salomao'.split(),\n",
    "    'Venda': [500, 20, 740, 324, 203, 6560]\n",
    "}\n",
    "df2 = pd.DataFrame(frames2)\n",
    "df2"
   ]
  },
  {
   "cell_type": "code",
   "execution_count": 81,
   "id": "db6cd29d-d9a6-4b65-a864-7a024abea681",
   "metadata": {},
   "outputs": [
    {
     "data": {
      "text/html": [
       "<div>\n",
       "<style scoped>\n",
       "    .dataframe tbody tr th:only-of-type {\n",
       "        vertical-align: middle;\n",
       "    }\n",
       "\n",
       "    .dataframe tbody tr th {\n",
       "        vertical-align: top;\n",
       "    }\n",
       "\n",
       "    .dataframe thead th {\n",
       "        text-align: right;\n",
       "    }\n",
       "</style>\n",
       "<table border=\"1\" class=\"dataframe\">\n",
       "  <thead>\n",
       "    <tr style=\"text-align: right;\">\n",
       "      <th></th>\n",
       "      <th>Classe</th>\n",
       "      <th>Nome</th>\n",
       "      <th>Venda</th>\n",
       "    </tr>\n",
       "  </thead>\n",
       "  <tbody>\n",
       "    <tr>\n",
       "      <th>0</th>\n",
       "      <td>Jr</td>\n",
       "      <td>Brunnete</td>\n",
       "      <td>200</td>\n",
       "    </tr>\n",
       "    <tr>\n",
       "      <th>1</th>\n",
       "      <td>Jr</td>\n",
       "      <td>Julia</td>\n",
       "      <td>120</td>\n",
       "    </tr>\n",
       "    <tr>\n",
       "      <th>2</th>\n",
       "      <td>Pl</td>\n",
       "      <td>Camila</td>\n",
       "      <td>340</td>\n",
       "    </tr>\n",
       "    <tr>\n",
       "      <th>3</th>\n",
       "      <td>Pl</td>\n",
       "      <td>Freddie</td>\n",
       "      <td>124</td>\n",
       "    </tr>\n",
       "    <tr>\n",
       "      <th>4</th>\n",
       "      <td>Sr</td>\n",
       "      <td>Nikolas</td>\n",
       "      <td>243</td>\n",
       "    </tr>\n",
       "    <tr>\n",
       "      <th>5</th>\n",
       "      <td>Sr</td>\n",
       "      <td>Salomao</td>\n",
       "      <td>3560</td>\n",
       "    </tr>\n",
       "    <tr>\n",
       "      <th>0</th>\n",
       "      <td>Jr</td>\n",
       "      <td>Brunnete</td>\n",
       "      <td>500</td>\n",
       "    </tr>\n",
       "    <tr>\n",
       "      <th>1</th>\n",
       "      <td>Jr</td>\n",
       "      <td>Julia</td>\n",
       "      <td>20</td>\n",
       "    </tr>\n",
       "    <tr>\n",
       "      <th>2</th>\n",
       "      <td>Pl</td>\n",
       "      <td>Camila</td>\n",
       "      <td>740</td>\n",
       "    </tr>\n",
       "    <tr>\n",
       "      <th>3</th>\n",
       "      <td>Pl</td>\n",
       "      <td>Freddie</td>\n",
       "      <td>324</td>\n",
       "    </tr>\n",
       "    <tr>\n",
       "      <th>4</th>\n",
       "      <td>Sr</td>\n",
       "      <td>Nikolas</td>\n",
       "      <td>203</td>\n",
       "    </tr>\n",
       "    <tr>\n",
       "      <th>5</th>\n",
       "      <td>Sr</td>\n",
       "      <td>Salomao</td>\n",
       "      <td>6560</td>\n",
       "    </tr>\n",
       "  </tbody>\n",
       "</table>\n",
       "</div>"
      ],
      "text/plain": [
       "  Classe      Nome  Venda\n",
       "0     Jr  Brunnete    200\n",
       "1     Jr     Julia    120\n",
       "2     Pl    Camila    340\n",
       "3     Pl   Freddie    124\n",
       "4     Sr   Nikolas    243\n",
       "5     Sr   Salomao   3560\n",
       "0     Jr  Brunnete    500\n",
       "1     Jr     Julia     20\n",
       "2     Pl    Camila    740\n",
       "3     Pl   Freddie    324\n",
       "4     Sr   Nikolas    203\n",
       "5     Sr   Salomao   6560"
      ]
     },
     "execution_count": 81,
     "metadata": {},
     "output_type": "execute_result"
    }
   ],
   "source": [
    "#questao 05\n",
    "df_concatenado = pd.concat([df_frames, df2])\n",
    "df_concatenado"
   ]
  },
  {
   "cell_type": "code",
   "execution_count": 80,
   "id": "43177bee-5d8d-4ef3-96cc-afc82305dff6",
   "metadata": {},
   "outputs": [
    {
     "data": {
      "text/html": [
       "<div>\n",
       "<style scoped>\n",
       "    .dataframe tbody tr th:only-of-type {\n",
       "        vertical-align: middle;\n",
       "    }\n",
       "\n",
       "    .dataframe tbody tr th {\n",
       "        vertical-align: top;\n",
       "    }\n",
       "\n",
       "    .dataframe thead th {\n",
       "        text-align: right;\n",
       "    }\n",
       "</style>\n",
       "<table border=\"1\" class=\"dataframe\">\n",
       "  <thead>\n",
       "    <tr style=\"text-align: right;\">\n",
       "      <th></th>\n",
       "      <th>Nome</th>\n",
       "      <th>Classe</th>\n",
       "      <th>Venda</th>\n",
       "    </tr>\n",
       "  </thead>\n",
       "  <tbody>\n",
       "    <tr>\n",
       "      <th>0</th>\n",
       "      <td>Brunnete</td>\n",
       "      <td>Jr</td>\n",
       "      <td>200</td>\n",
       "    </tr>\n",
       "    <tr>\n",
       "      <th>1</th>\n",
       "      <td>Camila</td>\n",
       "      <td>Pl</td>\n",
       "      <td>340</td>\n",
       "    </tr>\n",
       "    <tr>\n",
       "      <th>2</th>\n",
       "      <td>Freddie</td>\n",
       "      <td>Pl</td>\n",
       "      <td>124</td>\n",
       "    </tr>\n",
       "    <tr>\n",
       "      <th>3</th>\n",
       "      <td>Julia</td>\n",
       "      <td>Jr</td>\n",
       "      <td>120</td>\n",
       "    </tr>\n",
       "    <tr>\n",
       "      <th>4</th>\n",
       "      <td>Nikolas</td>\n",
       "      <td>Sr</td>\n",
       "      <td>243</td>\n",
       "    </tr>\n",
       "    <tr>\n",
       "      <th>5</th>\n",
       "      <td>Salomao</td>\n",
       "      <td>Sr</td>\n",
       "      <td>3560</td>\n",
       "    </tr>\n",
       "  </tbody>\n",
       "</table>\n",
       "</div>"
      ],
      "text/plain": [
       "       Nome Classe  Venda\n",
       "0  Brunnete     Jr    200\n",
       "1    Camila     Pl    340\n",
       "2   Freddie     Pl    124\n",
       "3     Julia     Jr    120\n",
       "4   Nikolas     Sr    243\n",
       "5   Salomao     Sr   3560"
      ]
     },
     "execution_count": 80,
     "metadata": {},
     "output_type": "execute_result"
    }
   ],
   "source": [
    "#questao 06\n",
    "df_nome = df_frames.groupby(['Nome' ,'Classe'])\n",
    "df_nome.sum().reset_index()"
   ]
  },
  {
   "cell_type": "code",
   "execution_count": null,
   "id": "8d2b38a8-ea58-436f-8fa7-9ce8e1ff3b92",
   "metadata": {},
   "outputs": [],
   "source": []
  }
 ],
 "metadata": {
  "kernelspec": {
   "display_name": "Python 3 (ipykernel)",
   "language": "python",
   "name": "python3"
  },
  "language_info": {
   "codemirror_mode": {
    "name": "ipython",
    "version": 3
   },
   "file_extension": ".py",
   "mimetype": "text/x-python",
   "name": "python",
   "nbconvert_exporter": "python",
   "pygments_lexer": "ipython3",
   "version": "3.10.9"
  }
 },
 "nbformat": 4,
 "nbformat_minor": 5
}

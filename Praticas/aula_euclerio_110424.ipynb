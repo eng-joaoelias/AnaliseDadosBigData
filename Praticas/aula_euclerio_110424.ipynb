{
 "cells": [
  {
   "cell_type": "code",
   "execution_count": 1,
   "id": "18ee3e7a-8b69-48c2-8efe-32754a7e6106",
   "metadata": {},
   "outputs": [
    {
     "data": {
      "text/plain": [
       "'\\nAnálise de Dados e Big Data\\nManipulação de DataSet\\n'"
      ]
     },
     "execution_count": 1,
     "metadata": {},
     "output_type": "execute_result"
    }
   ],
   "source": [
    "'''\n",
    "Análise de Dados e Big Data\n",
    "Manipulação de DataSet\n",
    "Coeficiente de Pierce\n",
    "'''"
   ]
  },
  {
   "cell_type": "code",
   "execution_count": 22,
   "id": "22fe4875-1c8a-4278-8780-0fc172739720",
   "metadata": {},
   "outputs": [],
   "source": [
    "#importacao de bibliotecas\n",
    "\n",
    "import numpy as np\n",
    "import pandas as pd"
   ]
  },
  {
   "cell_type": "code",
   "execution_count": 3,
   "id": "18018619-cbe7-465f-90b7-c3eb778e3ed3",
   "metadata": {},
   "outputs": [],
   "source": [
    "labels = 'a b c'.split()\n",
    "minha_lista = [10 ,20, 30]\n",
    "arr = np.array([10., 20, 30])\n",
    "d = {\n",
    "    'a': 10,\n",
    "    'b': 20,\n",
    "    'c': 30\n",
    "}"
   ]
  },
  {
   "cell_type": "code",
   "execution_count": 5,
   "id": "014900a0-f5a0-4640-8ec3-72fc2cde82ff",
   "metadata": {},
   "outputs": [
    {
     "name": "stdout",
     "output_type": "stream",
     "text": [
      "0    10\n",
      "1    20\n",
      "2    30\n",
      "dtype: int64\n"
     ]
    }
   ],
   "source": [
    "response = pd.Series(data = minha_lista)\n",
    "print(response)"
   ]
  },
  {
   "cell_type": "code",
   "execution_count": 7,
   "id": "bc928173-eb87-4eff-ad02-7c4d28ea57f5",
   "metadata": {},
   "outputs": [
    {
     "name": "stdout",
     "output_type": "stream",
     "text": [
      "a    10\n",
      "b    20\n",
      "c    30\n",
      "dtype: int64\n"
     ]
    }
   ],
   "source": [
    "response_2 = pd.Series(\n",
    "    data = minha_lista,\n",
    "    index = labels\n",
    ")\n",
    "print(response_2)"
   ]
  },
  {
   "cell_type": "code",
   "execution_count": 12,
   "id": "e211da70-0aa1-4841-ac02-174347280a2b",
   "metadata": {},
   "outputs": [],
   "source": [
    "serie1 = pd.Series([1, 2, 3, 4], index = ['EUA', 'ALE', 'USSR', 'JP'])\n",
    "serie2 = pd.Series([1, 2, 5, 4], index = ['EUA', 'ALE', 'CHN', 'JP'])"
   ]
  },
  {
   "cell_type": "code",
   "execution_count": 17,
   "id": "cc01bc24-4837-4e20-aca5-2966996fa118",
   "metadata": {},
   "outputs": [
    {
     "data": {
      "text/plain": [
       "'ERROR'"
      ]
     },
     "execution_count": 17,
     "metadata": {},
     "output_type": "execute_result"
    }
   ],
   "source": [
    "serie1.get('bra'.upper() ,'ERROR')"
   ]
  },
  {
   "cell_type": "code",
   "execution_count": 19,
   "id": "7ebfea61-3420-4db4-8b1b-267fa2841793",
   "metadata": {},
   "outputs": [],
   "source": [
    "serie3 = serie1 + serie2"
   ]
  },
  {
   "cell_type": "code",
   "execution_count": 20,
   "id": "6e5f579d-30d0-4f94-b699-21daa105e376",
   "metadata": {},
   "outputs": [
    {
     "data": {
      "text/plain": [
       "2.0"
      ]
     },
     "execution_count": 20,
     "metadata": {},
     "output_type": "execute_result"
    }
   ],
   "source": [
    "serie3.get('EUA')"
   ]
  },
  {
   "cell_type": "code",
   "execution_count": 21,
   "id": "bdc1bc34-a29b-4587-a107-3a3a6191ce78",
   "metadata": {},
   "outputs": [
    {
     "data": {
      "text/plain": [
       "numpy.float64"
      ]
     },
     "execution_count": 21,
     "metadata": {},
     "output_type": "execute_result"
    }
   ],
   "source": [
    "type(serie3.get('EUA'))"
   ]
  },
  {
   "cell_type": "code",
   "execution_count": 23,
   "id": "b0142d9f-f635-4abd-b88b-cd9e7e5d71f8",
   "metadata": {},
   "outputs": [
    {
     "name": "stdout",
     "output_type": "stream",
     "text": [
      "[[-0.74260502  0.02241341  0.29084763  1.8776675 ]\n",
      " [ 0.94810215  0.03647969 -0.01984208 -0.6106118 ]\n",
      " [ 0.28330595  0.785333    0.52982992 -1.10331124]\n",
      " [-0.34458485  0.73526285  1.99454075 -1.7652977 ]\n",
      " [ 0.91968125 -1.93014801 -0.15879085 -0.09810276]]\n"
     ]
    }
   ],
   "source": [
    "matrix = np.random.randn(5,4)\n",
    "print(matrix)"
   ]
  },
  {
   "cell_type": "code",
   "execution_count": 24,
   "id": "76945aeb-41ad-49d1-acdf-fcdf1bc17425",
   "metadata": {},
   "outputs": [],
   "source": [
    "df = pd.DataFrame(matrix,\n",
    "                  index = 'A B C D E'.split(),\n",
    "                  columns = 'W X Y Z'.split()\n",
    "                 )"
   ]
  },
  {
   "cell_type": "code",
   "execution_count": 26,
   "id": "9eeacd4e-7970-4c31-92bd-5c5fd83287dd",
   "metadata": {},
   "outputs": [
    {
     "data": {
      "text/html": [
       "<div>\n",
       "<style scoped>\n",
       "    .dataframe tbody tr th:only-of-type {\n",
       "        vertical-align: middle;\n",
       "    }\n",
       "\n",
       "    .dataframe tbody tr th {\n",
       "        vertical-align: top;\n",
       "    }\n",
       "\n",
       "    .dataframe thead th {\n",
       "        text-align: right;\n",
       "    }\n",
       "</style>\n",
       "<table border=\"1\" class=\"dataframe\">\n",
       "  <thead>\n",
       "    <tr style=\"text-align: right;\">\n",
       "      <th></th>\n",
       "      <th>W</th>\n",
       "      <th>X</th>\n",
       "      <th>Y</th>\n",
       "      <th>Z</th>\n",
       "    </tr>\n",
       "  </thead>\n",
       "  <tbody>\n",
       "    <tr>\n",
       "      <th>A</th>\n",
       "      <td>-0.742605</td>\n",
       "      <td>0.022413</td>\n",
       "      <td>0.290848</td>\n",
       "      <td>1.877668</td>\n",
       "    </tr>\n",
       "    <tr>\n",
       "      <th>B</th>\n",
       "      <td>0.948102</td>\n",
       "      <td>0.036480</td>\n",
       "      <td>-0.019842</td>\n",
       "      <td>-0.610612</td>\n",
       "    </tr>\n",
       "    <tr>\n",
       "      <th>C</th>\n",
       "      <td>0.283306</td>\n",
       "      <td>0.785333</td>\n",
       "      <td>0.529830</td>\n",
       "      <td>-1.103311</td>\n",
       "    </tr>\n",
       "    <tr>\n",
       "      <th>D</th>\n",
       "      <td>-0.344585</td>\n",
       "      <td>0.735263</td>\n",
       "      <td>1.994541</td>\n",
       "      <td>-1.765298</td>\n",
       "    </tr>\n",
       "    <tr>\n",
       "      <th>E</th>\n",
       "      <td>0.919681</td>\n",
       "      <td>-1.930148</td>\n",
       "      <td>-0.158791</td>\n",
       "      <td>-0.098103</td>\n",
       "    </tr>\n",
       "  </tbody>\n",
       "</table>\n",
       "</div>"
      ],
      "text/plain": [
       "          W         X         Y         Z\n",
       "A -0.742605  0.022413  0.290848  1.877668\n",
       "B  0.948102  0.036480 -0.019842 -0.610612\n",
       "C  0.283306  0.785333  0.529830 -1.103311\n",
       "D -0.344585  0.735263  1.994541 -1.765298\n",
       "E  0.919681 -1.930148 -0.158791 -0.098103"
      ]
     },
     "execution_count": 26,
     "metadata": {},
     "output_type": "execute_result"
    }
   ],
   "source": [
    "df"
   ]
  },
  {
   "cell_type": "code",
   "execution_count": 31,
   "id": "5fc982f2-ad75-42ab-beb3-9167d66b6581",
   "metadata": {},
   "outputs": [
    {
     "data": {
      "text/html": [
       "<div>\n",
       "<style scoped>\n",
       "    .dataframe tbody tr th:only-of-type {\n",
       "        vertical-align: middle;\n",
       "    }\n",
       "\n",
       "    .dataframe tbody tr th {\n",
       "        vertical-align: top;\n",
       "    }\n",
       "\n",
       "    .dataframe thead th {\n",
       "        text-align: right;\n",
       "    }\n",
       "</style>\n",
       "<table border=\"1\" class=\"dataframe\">\n",
       "  <thead>\n",
       "    <tr style=\"text-align: right;\">\n",
       "      <th></th>\n",
       "      <th>Y</th>\n",
       "      <th>Z</th>\n",
       "    </tr>\n",
       "  </thead>\n",
       "  <tbody>\n",
       "    <tr>\n",
       "      <th>A</th>\n",
       "      <td>0.290848</td>\n",
       "      <td>1.877668</td>\n",
       "    </tr>\n",
       "    <tr>\n",
       "      <th>B</th>\n",
       "      <td>-0.019842</td>\n",
       "      <td>-0.610612</td>\n",
       "    </tr>\n",
       "    <tr>\n",
       "      <th>C</th>\n",
       "      <td>0.529830</td>\n",
       "      <td>-1.103311</td>\n",
       "    </tr>\n",
       "    <tr>\n",
       "      <th>D</th>\n",
       "      <td>1.994541</td>\n",
       "      <td>-1.765298</td>\n",
       "    </tr>\n",
       "    <tr>\n",
       "      <th>E</th>\n",
       "      <td>-0.158791</td>\n",
       "      <td>-0.098103</td>\n",
       "    </tr>\n",
       "  </tbody>\n",
       "</table>\n",
       "</div>"
      ],
      "text/plain": [
       "          Y         Z\n",
       "A  0.290848  1.877668\n",
       "B -0.019842 -0.610612\n",
       "C  0.529830 -1.103311\n",
       "D  1.994541 -1.765298\n",
       "E -0.158791 -0.098103"
      ]
     },
     "execution_count": 31,
     "metadata": {},
     "output_type": "execute_result"
    }
   ],
   "source": [
    "df[['Y', 'Z']]"
   ]
  },
  {
   "cell_type": "code",
   "execution_count": 37,
   "id": "22ec3bc8-318d-4808-985a-b38c7889ad1f",
   "metadata": {},
   "outputs": [],
   "source": [
    "df['Nova'] = df['W'] + df['Y']"
   ]
  },
  {
   "cell_type": "code",
   "execution_count": 39,
   "id": "65b60c09-202e-4892-a531-ae7c075d346d",
   "metadata": {},
   "outputs": [
    {
     "data": {
      "text/html": [
       "<div>\n",
       "<style scoped>\n",
       "    .dataframe tbody tr th:only-of-type {\n",
       "        vertical-align: middle;\n",
       "    }\n",
       "\n",
       "    .dataframe tbody tr th {\n",
       "        vertical-align: top;\n",
       "    }\n",
       "\n",
       "    .dataframe thead th {\n",
       "        text-align: right;\n",
       "    }\n",
       "</style>\n",
       "<table border=\"1\" class=\"dataframe\">\n",
       "  <thead>\n",
       "    <tr style=\"text-align: right;\">\n",
       "      <th></th>\n",
       "      <th>W</th>\n",
       "      <th>X</th>\n",
       "      <th>Y</th>\n",
       "      <th>Z</th>\n",
       "      <th>Nova</th>\n",
       "    </tr>\n",
       "  </thead>\n",
       "  <tbody>\n",
       "    <tr>\n",
       "      <th>A</th>\n",
       "      <td>-0.742605</td>\n",
       "      <td>0.022413</td>\n",
       "      <td>0.290848</td>\n",
       "      <td>1.877668</td>\n",
       "      <td>-0.451757</td>\n",
       "    </tr>\n",
       "    <tr>\n",
       "      <th>B</th>\n",
       "      <td>0.948102</td>\n",
       "      <td>0.036480</td>\n",
       "      <td>-0.019842</td>\n",
       "      <td>-0.610612</td>\n",
       "      <td>0.928260</td>\n",
       "    </tr>\n",
       "    <tr>\n",
       "      <th>D</th>\n",
       "      <td>-0.344585</td>\n",
       "      <td>0.735263</td>\n",
       "      <td>1.994541</td>\n",
       "      <td>-1.765298</td>\n",
       "      <td>1.649956</td>\n",
       "    </tr>\n",
       "    <tr>\n",
       "      <th>E</th>\n",
       "      <td>0.919681</td>\n",
       "      <td>-1.930148</td>\n",
       "      <td>-0.158791</td>\n",
       "      <td>-0.098103</td>\n",
       "      <td>0.760890</td>\n",
       "    </tr>\n",
       "  </tbody>\n",
       "</table>\n",
       "</div>"
      ],
      "text/plain": [
       "          W         X         Y         Z      Nova\n",
       "A -0.742605  0.022413  0.290848  1.877668 -0.451757\n",
       "B  0.948102  0.036480 -0.019842 -0.610612  0.928260\n",
       "D -0.344585  0.735263  1.994541 -1.765298  1.649956\n",
       "E  0.919681 -1.930148 -0.158791 -0.098103  0.760890"
      ]
     },
     "execution_count": 39,
     "metadata": {},
     "output_type": "execute_result"
    }
   ],
   "source": [
    "df.drop('C', axis = 0)"
   ]
  },
  {
   "cell_type": "code",
   "execution_count": 42,
   "id": "c503e994-9ef7-407c-9376-c80e4ecf0f79",
   "metadata": {},
   "outputs": [
    {
     "data": {
      "text/html": [
       "<div>\n",
       "<style scoped>\n",
       "    .dataframe tbody tr th:only-of-type {\n",
       "        vertical-align: middle;\n",
       "    }\n",
       "\n",
       "    .dataframe tbody tr th {\n",
       "        vertical-align: top;\n",
       "    }\n",
       "\n",
       "    .dataframe thead th {\n",
       "        text-align: right;\n",
       "    }\n",
       "</style>\n",
       "<table border=\"1\" class=\"dataframe\">\n",
       "  <thead>\n",
       "    <tr style=\"text-align: right;\">\n",
       "      <th></th>\n",
       "      <th>W</th>\n",
       "      <th>X</th>\n",
       "      <th>Y</th>\n",
       "      <th>Z</th>\n",
       "      <th>Nova</th>\n",
       "    </tr>\n",
       "  </thead>\n",
       "  <tbody>\n",
       "    <tr>\n",
       "      <th>A</th>\n",
       "      <td>-0.742605</td>\n",
       "      <td>0.022413</td>\n",
       "      <td>0.290848</td>\n",
       "      <td>1.877668</td>\n",
       "      <td>-0.451757</td>\n",
       "    </tr>\n",
       "    <tr>\n",
       "      <th>B</th>\n",
       "      <td>0.948102</td>\n",
       "      <td>0.036480</td>\n",
       "      <td>-0.019842</td>\n",
       "      <td>-0.610612</td>\n",
       "      <td>0.928260</td>\n",
       "    </tr>\n",
       "    <tr>\n",
       "      <th>C</th>\n",
       "      <td>0.283306</td>\n",
       "      <td>0.785333</td>\n",
       "      <td>0.529830</td>\n",
       "      <td>-1.103311</td>\n",
       "      <td>0.813136</td>\n",
       "    </tr>\n",
       "    <tr>\n",
       "      <th>D</th>\n",
       "      <td>-0.344585</td>\n",
       "      <td>0.735263</td>\n",
       "      <td>1.994541</td>\n",
       "      <td>-1.765298</td>\n",
       "      <td>1.649956</td>\n",
       "    </tr>\n",
       "    <tr>\n",
       "      <th>E</th>\n",
       "      <td>0.919681</td>\n",
       "      <td>-1.930148</td>\n",
       "      <td>-0.158791</td>\n",
       "      <td>-0.098103</td>\n",
       "      <td>0.760890</td>\n",
       "    </tr>\n",
       "  </tbody>\n",
       "</table>\n",
       "</div>"
      ],
      "text/plain": [
       "          W         X         Y         Z      Nova\n",
       "A -0.742605  0.022413  0.290848  1.877668 -0.451757\n",
       "B  0.948102  0.036480 -0.019842 -0.610612  0.928260\n",
       "C  0.283306  0.785333  0.529830 -1.103311  0.813136\n",
       "D -0.344585  0.735263  1.994541 -1.765298  1.649956\n",
       "E  0.919681 -1.930148 -0.158791 -0.098103  0.760890"
      ]
     },
     "execution_count": 42,
     "metadata": {},
     "output_type": "execute_result"
    }
   ],
   "source": [
    "df"
   ]
  },
  {
   "cell_type": "code",
   "execution_count": 44,
   "id": "1f22097f-a127-408d-80af-30c79efeab3c",
   "metadata": {},
   "outputs": [
    {
     "data": {
      "text/html": [
       "<div>\n",
       "<style scoped>\n",
       "    .dataframe tbody tr th:only-of-type {\n",
       "        vertical-align: middle;\n",
       "    }\n",
       "\n",
       "    .dataframe tbody tr th {\n",
       "        vertical-align: top;\n",
       "    }\n",
       "\n",
       "    .dataframe thead th {\n",
       "        text-align: right;\n",
       "    }\n",
       "</style>\n",
       "<table border=\"1\" class=\"dataframe\">\n",
       "  <thead>\n",
       "    <tr style=\"text-align: right;\">\n",
       "      <th></th>\n",
       "      <th>W</th>\n",
       "      <th>X</th>\n",
       "      <th>Y</th>\n",
       "      <th>Z</th>\n",
       "    </tr>\n",
       "  </thead>\n",
       "  <tbody>\n",
       "    <tr>\n",
       "      <th>A</th>\n",
       "      <td>-0.742605</td>\n",
       "      <td>0.022413</td>\n",
       "      <td>0.290848</td>\n",
       "      <td>1.877668</td>\n",
       "    </tr>\n",
       "    <tr>\n",
       "      <th>B</th>\n",
       "      <td>0.948102</td>\n",
       "      <td>0.036480</td>\n",
       "      <td>-0.019842</td>\n",
       "      <td>-0.610612</td>\n",
       "    </tr>\n",
       "    <tr>\n",
       "      <th>C</th>\n",
       "      <td>0.283306</td>\n",
       "      <td>0.785333</td>\n",
       "      <td>0.529830</td>\n",
       "      <td>-1.103311</td>\n",
       "    </tr>\n",
       "    <tr>\n",
       "      <th>D</th>\n",
       "      <td>-0.344585</td>\n",
       "      <td>0.735263</td>\n",
       "      <td>1.994541</td>\n",
       "      <td>-1.765298</td>\n",
       "    </tr>\n",
       "    <tr>\n",
       "      <th>E</th>\n",
       "      <td>0.919681</td>\n",
       "      <td>-1.930148</td>\n",
       "      <td>-0.158791</td>\n",
       "      <td>-0.098103</td>\n",
       "    </tr>\n",
       "  </tbody>\n",
       "</table>\n",
       "</div>"
      ],
      "text/plain": [
       "          W         X         Y         Z\n",
       "A -0.742605  0.022413  0.290848  1.877668\n",
       "B  0.948102  0.036480 -0.019842 -0.610612\n",
       "C  0.283306  0.785333  0.529830 -1.103311\n",
       "D -0.344585  0.735263  1.994541 -1.765298\n",
       "E  0.919681 -1.930148 -0.158791 -0.098103"
      ]
     },
     "execution_count": 44,
     "metadata": {},
     "output_type": "execute_result"
    }
   ],
   "source": [
    "df.drop('Nova', axis = 1, inplace = True)\n",
    "df"
   ]
  },
  {
   "cell_type": "code",
   "execution_count": 45,
   "id": "dc64dfa6-9eca-4355-9f2b-b19c2a9d1d2d",
   "metadata": {},
   "outputs": [
    {
     "data": {
      "text/html": [
       "<div>\n",
       "<style scoped>\n",
       "    .dataframe tbody tr th:only-of-type {\n",
       "        vertical-align: middle;\n",
       "    }\n",
       "\n",
       "    .dataframe tbody tr th {\n",
       "        vertical-align: top;\n",
       "    }\n",
       "\n",
       "    .dataframe thead th {\n",
       "        text-align: right;\n",
       "    }\n",
       "</style>\n",
       "<table border=\"1\" class=\"dataframe\">\n",
       "  <thead>\n",
       "    <tr style=\"text-align: right;\">\n",
       "      <th></th>\n",
       "      <th>W</th>\n",
       "      <th>X</th>\n",
       "      <th>Y</th>\n",
       "      <th>Z</th>\n",
       "    </tr>\n",
       "  </thead>\n",
       "  <tbody>\n",
       "    <tr>\n",
       "      <th>A</th>\n",
       "      <td>-0.742605</td>\n",
       "      <td>0.022413</td>\n",
       "      <td>0.290848</td>\n",
       "      <td>1.877668</td>\n",
       "    </tr>\n",
       "    <tr>\n",
       "      <th>B</th>\n",
       "      <td>0.948102</td>\n",
       "      <td>0.036480</td>\n",
       "      <td>-0.019842</td>\n",
       "      <td>-0.610612</td>\n",
       "    </tr>\n",
       "    <tr>\n",
       "      <th>C</th>\n",
       "      <td>0.283306</td>\n",
       "      <td>0.785333</td>\n",
       "      <td>0.529830</td>\n",
       "      <td>-1.103311</td>\n",
       "    </tr>\n",
       "    <tr>\n",
       "      <th>D</th>\n",
       "      <td>-0.344585</td>\n",
       "      <td>0.735263</td>\n",
       "      <td>1.994541</td>\n",
       "      <td>-1.765298</td>\n",
       "    </tr>\n",
       "    <tr>\n",
       "      <th>E</th>\n",
       "      <td>0.919681</td>\n",
       "      <td>-1.930148</td>\n",
       "      <td>-0.158791</td>\n",
       "      <td>-0.098103</td>\n",
       "    </tr>\n",
       "  </tbody>\n",
       "</table>\n",
       "</div>"
      ],
      "text/plain": [
       "          W         X         Y         Z\n",
       "A -0.742605  0.022413  0.290848  1.877668\n",
       "B  0.948102  0.036480 -0.019842 -0.610612\n",
       "C  0.283306  0.785333  0.529830 -1.103311\n",
       "D -0.344585  0.735263  1.994541 -1.765298\n",
       "E  0.919681 -1.930148 -0.158791 -0.098103"
      ]
     },
     "execution_count": 45,
     "metadata": {},
     "output_type": "execute_result"
    }
   ],
   "source": [
    "df_1 = df.copy()\n",
    "df_1"
   ]
  },
  {
   "cell_type": "code",
   "execution_count": 50,
   "id": "3ef1e13a-ed3e-4407-8bb5-f88a11ed38aa",
   "metadata": {},
   "outputs": [
    {
     "data": {
      "text/plain": [
       "W   -0.742605\n",
       "X    0.022413\n",
       "Y    0.290848\n",
       "Z    1.877668\n",
       "Name: A, dtype: float64"
      ]
     },
     "execution_count": 50,
     "metadata": {},
     "output_type": "execute_result"
    }
   ],
   "source": [
    "df.loc['A'] #pega os valores da linha"
   ]
  },
  {
   "cell_type": "code",
   "execution_count": 51,
   "id": "1cc2a12a-1412-448e-bb45-09c8f7921f8e",
   "metadata": {},
   "outputs": [
    {
     "data": {
      "text/plain": [
       "W   -0.742605\n",
       "X    0.022413\n",
       "Y    0.290848\n",
       "Z    1.877668\n",
       "Name: A, dtype: float64"
      ]
     },
     "execution_count": 51,
     "metadata": {},
     "output_type": "execute_result"
    }
   ],
   "source": [
    "df.iloc[0] #pega os valores da linha"
   ]
  },
  {
   "cell_type": "code",
   "execution_count": 52,
   "id": "187194dc-94a4-47d7-b719-4282fcc48013",
   "metadata": {},
   "outputs": [
    {
     "data": {
      "text/plain": [
       "-0.019842080262659524"
      ]
     },
     "execution_count": 52,
     "metadata": {},
     "output_type": "execute_result"
    }
   ],
   "source": [
    "df.loc['B', 'Y'] #procura por um valor especifico; ordem  = linha, coluna"
   ]
  },
  {
   "cell_type": "code",
   "execution_count": 53,
   "id": "436c87d5-92f6-479f-990a-9e15b0b20b1c",
   "metadata": {},
   "outputs": [
    {
     "data": {
      "text/html": [
       "<div>\n",
       "<style scoped>\n",
       "    .dataframe tbody tr th:only-of-type {\n",
       "        vertical-align: middle;\n",
       "    }\n",
       "\n",
       "    .dataframe tbody tr th {\n",
       "        vertical-align: top;\n",
       "    }\n",
       "\n",
       "    .dataframe thead th {\n",
       "        text-align: right;\n",
       "    }\n",
       "</style>\n",
       "<table border=\"1\" class=\"dataframe\">\n",
       "  <thead>\n",
       "    <tr style=\"text-align: right;\">\n",
       "      <th></th>\n",
       "      <th>W</th>\n",
       "      <th>Y</th>\n",
       "    </tr>\n",
       "  </thead>\n",
       "  <tbody>\n",
       "    <tr>\n",
       "      <th>A</th>\n",
       "      <td>-0.742605</td>\n",
       "      <td>0.290848</td>\n",
       "    </tr>\n",
       "    <tr>\n",
       "      <th>B</th>\n",
       "      <td>0.948102</td>\n",
       "      <td>-0.019842</td>\n",
       "    </tr>\n",
       "  </tbody>\n",
       "</table>\n",
       "</div>"
      ],
      "text/plain": [
       "          W         Y\n",
       "A -0.742605  0.290848\n",
       "B  0.948102 -0.019842"
      ]
     },
     "execution_count": 53,
     "metadata": {},
     "output_type": "execute_result"
    }
   ],
   "source": [
    "df.loc[['A', 'B'], ['W', 'Y']] #extrair um dataframe de outro dataframe. sempre na ordem linha coluna"
   ]
  },
  {
   "cell_type": "code",
   "execution_count": 54,
   "id": "bb415a78-0924-4422-94c4-0598043d4961",
   "metadata": {},
   "outputs": [
    {
     "data": {
      "text/html": [
       "<div>\n",
       "<style scoped>\n",
       "    .dataframe tbody tr th:only-of-type {\n",
       "        vertical-align: middle;\n",
       "    }\n",
       "\n",
       "    .dataframe tbody tr th {\n",
       "        vertical-align: top;\n",
       "    }\n",
       "\n",
       "    .dataframe thead th {\n",
       "        text-align: right;\n",
       "    }\n",
       "</style>\n",
       "<table border=\"1\" class=\"dataframe\">\n",
       "  <thead>\n",
       "    <tr style=\"text-align: right;\">\n",
       "      <th></th>\n",
       "      <th>W</th>\n",
       "      <th>X</th>\n",
       "      <th>Y</th>\n",
       "      <th>Z</th>\n",
       "    </tr>\n",
       "  </thead>\n",
       "  <tbody>\n",
       "    <tr>\n",
       "      <th>A</th>\n",
       "      <td>-0.742605</td>\n",
       "      <td>0.022413</td>\n",
       "      <td>0.290848</td>\n",
       "      <td>1.877668</td>\n",
       "    </tr>\n",
       "    <tr>\n",
       "      <th>B</th>\n",
       "      <td>0.948102</td>\n",
       "      <td>0.036480</td>\n",
       "      <td>-0.019842</td>\n",
       "      <td>-0.610612</td>\n",
       "    </tr>\n",
       "    <tr>\n",
       "      <th>C</th>\n",
       "      <td>0.283306</td>\n",
       "      <td>0.785333</td>\n",
       "      <td>0.529830</td>\n",
       "      <td>-1.103311</td>\n",
       "    </tr>\n",
       "    <tr>\n",
       "      <th>D</th>\n",
       "      <td>-0.344585</td>\n",
       "      <td>0.735263</td>\n",
       "      <td>1.994541</td>\n",
       "      <td>-1.765298</td>\n",
       "    </tr>\n",
       "    <tr>\n",
       "      <th>E</th>\n",
       "      <td>0.919681</td>\n",
       "      <td>-1.930148</td>\n",
       "      <td>-0.158791</td>\n",
       "      <td>-0.098103</td>\n",
       "    </tr>\n",
       "  </tbody>\n",
       "</table>\n",
       "</div>"
      ],
      "text/plain": [
       "          W         X         Y         Z\n",
       "A -0.742605  0.022413  0.290848  1.877668\n",
       "B  0.948102  0.036480 -0.019842 -0.610612\n",
       "C  0.283306  0.785333  0.529830 -1.103311\n",
       "D -0.344585  0.735263  1.994541 -1.765298\n",
       "E  0.919681 -1.930148 -0.158791 -0.098103"
      ]
     },
     "execution_count": 54,
     "metadata": {},
     "output_type": "execute_result"
    }
   ],
   "source": [
    "df_1"
   ]
  },
  {
   "cell_type": "code",
   "execution_count": 58,
   "id": "494e155a-5d22-41eb-9983-ed4e7efd4bdb",
   "metadata": {},
   "outputs": [
    {
     "data": {
      "text/html": [
       "<div>\n",
       "<style scoped>\n",
       "    .dataframe tbody tr th:only-of-type {\n",
       "        vertical-align: middle;\n",
       "    }\n",
       "\n",
       "    .dataframe tbody tr th {\n",
       "        vertical-align: top;\n",
       "    }\n",
       "\n",
       "    .dataframe thead th {\n",
       "        text-align: right;\n",
       "    }\n",
       "</style>\n",
       "<table border=\"1\" class=\"dataframe\">\n",
       "  <thead>\n",
       "    <tr style=\"text-align: right;\">\n",
       "      <th></th>\n",
       "      <th>W</th>\n",
       "      <th>X</th>\n",
       "      <th>Y</th>\n",
       "      <th>Z</th>\n",
       "    </tr>\n",
       "  </thead>\n",
       "  <tbody>\n",
       "    <tr>\n",
       "      <th>A</th>\n",
       "      <td>NaN</td>\n",
       "      <td>0.022413</td>\n",
       "      <td>0.290848</td>\n",
       "      <td>1.877668</td>\n",
       "    </tr>\n",
       "    <tr>\n",
       "      <th>B</th>\n",
       "      <td>0.948102</td>\n",
       "      <td>0.036480</td>\n",
       "      <td>NaN</td>\n",
       "      <td>NaN</td>\n",
       "    </tr>\n",
       "    <tr>\n",
       "      <th>C</th>\n",
       "      <td>0.283306</td>\n",
       "      <td>0.785333</td>\n",
       "      <td>0.529830</td>\n",
       "      <td>NaN</td>\n",
       "    </tr>\n",
       "    <tr>\n",
       "      <th>D</th>\n",
       "      <td>NaN</td>\n",
       "      <td>0.735263</td>\n",
       "      <td>1.994541</td>\n",
       "      <td>NaN</td>\n",
       "    </tr>\n",
       "    <tr>\n",
       "      <th>E</th>\n",
       "      <td>0.919681</td>\n",
       "      <td>NaN</td>\n",
       "      <td>NaN</td>\n",
       "      <td>NaN</td>\n",
       "    </tr>\n",
       "  </tbody>\n",
       "</table>\n",
       "</div>"
      ],
      "text/plain": [
       "          W         X         Y         Z\n",
       "A       NaN  0.022413  0.290848  1.877668\n",
       "B  0.948102  0.036480       NaN       NaN\n",
       "C  0.283306  0.785333  0.529830       NaN\n",
       "D       NaN  0.735263  1.994541       NaN\n",
       "E  0.919681       NaN       NaN       NaN"
      ]
     },
     "execution_count": 58,
     "metadata": {},
     "output_type": "execute_result"
    }
   ],
   "source": [
    "df[df_1>0] #exibir os maiores que zero. o q nao eh ele retorna nan"
   ]
  },
  {
   "cell_type": "code",
   "execution_count": 60,
   "id": "7a57a96f-af1f-42ea-a8a9-c8bc3146a28a",
   "metadata": {},
   "outputs": [
    {
     "data": {
      "text/html": [
       "<div>\n",
       "<style scoped>\n",
       "    .dataframe tbody tr th:only-of-type {\n",
       "        vertical-align: middle;\n",
       "    }\n",
       "\n",
       "    .dataframe tbody tr th {\n",
       "        vertical-align: top;\n",
       "    }\n",
       "\n",
       "    .dataframe thead th {\n",
       "        text-align: right;\n",
       "    }\n",
       "</style>\n",
       "<table border=\"1\" class=\"dataframe\">\n",
       "  <thead>\n",
       "    <tr style=\"text-align: right;\">\n",
       "      <th></th>\n",
       "      <th>W</th>\n",
       "      <th>X</th>\n",
       "      <th>Y</th>\n",
       "      <th>Z</th>\n",
       "    </tr>\n",
       "  </thead>\n",
       "  <tbody>\n",
       "    <tr>\n",
       "      <th>A</th>\n",
       "      <td>-0.742605</td>\n",
       "      <td>0.022413</td>\n",
       "      <td>0.290848</td>\n",
       "      <td>1.877668</td>\n",
       "    </tr>\n",
       "    <tr>\n",
       "      <th>B</th>\n",
       "      <td>0.948102</td>\n",
       "      <td>0.036480</td>\n",
       "      <td>-0.019842</td>\n",
       "      <td>-0.610612</td>\n",
       "    </tr>\n",
       "    <tr>\n",
       "      <th>C</th>\n",
       "      <td>0.283306</td>\n",
       "      <td>0.785333</td>\n",
       "      <td>0.529830</td>\n",
       "      <td>-1.103311</td>\n",
       "    </tr>\n",
       "    <tr>\n",
       "      <th>D</th>\n",
       "      <td>-0.344585</td>\n",
       "      <td>0.735263</td>\n",
       "      <td>1.994541</td>\n",
       "      <td>-1.765298</td>\n",
       "    </tr>\n",
       "  </tbody>\n",
       "</table>\n",
       "</div>"
      ],
      "text/plain": [
       "          W         X         Y         Z\n",
       "A -0.742605  0.022413  0.290848  1.877668\n",
       "B  0.948102  0.036480 -0.019842 -0.610612\n",
       "C  0.283306  0.785333  0.529830 -1.103311\n",
       "D -0.344585  0.735263  1.994541 -1.765298"
      ]
     },
     "execution_count": 60,
     "metadata": {},
     "output_type": "execute_result"
    }
   ],
   "source": [
    "df_1[df_1['X']>0] #dataframe onde a coluna x eh maior que zero. ele corta as linhas onde a condicao e falsa"
   ]
  },
  {
   "cell_type": "code",
   "execution_count": 61,
   "id": "f34868af-4a5c-4bcc-99c3-d4975f9b474b",
   "metadata": {},
   "outputs": [
    {
     "data": {
      "text/plain": [
       "A    1.877668\n",
       "B   -0.610612\n",
       "C   -1.103311\n",
       "D   -1.765298\n",
       "Name: Z, dtype: float64"
      ]
     },
     "execution_count": 61,
     "metadata": {},
     "output_type": "execute_result"
    }
   ],
   "source": [
    "df_1[df_1['X']>0]['Z']\n",
    "'''\n",
    "#dataframe onde a coluna x eh maior que zero.\n",
    "ele corta as linhas onde a condicao e falsa.\n",
    "retorna os resultados na coluna z\n",
    "'''"
   ]
  },
  {
   "cell_type": "code",
   "execution_count": 63,
   "id": "f7d8b7d2-4632-48f7-a761-89e59298ba23",
   "metadata": {},
   "outputs": [
    {
     "data": {
      "text/html": [
       "<div>\n",
       "<style scoped>\n",
       "    .dataframe tbody tr th:only-of-type {\n",
       "        vertical-align: middle;\n",
       "    }\n",
       "\n",
       "    .dataframe tbody tr th {\n",
       "        vertical-align: top;\n",
       "    }\n",
       "\n",
       "    .dataframe thead th {\n",
       "        text-align: right;\n",
       "    }\n",
       "</style>\n",
       "<table border=\"1\" class=\"dataframe\">\n",
       "  <thead>\n",
       "    <tr style=\"text-align: right;\">\n",
       "      <th></th>\n",
       "      <th>X</th>\n",
       "      <th>Z</th>\n",
       "    </tr>\n",
       "  </thead>\n",
       "  <tbody>\n",
       "    <tr>\n",
       "      <th>A</th>\n",
       "      <td>0.022413</td>\n",
       "      <td>1.877668</td>\n",
       "    </tr>\n",
       "    <tr>\n",
       "      <th>B</th>\n",
       "      <td>0.036480</td>\n",
       "      <td>-0.610612</td>\n",
       "    </tr>\n",
       "    <tr>\n",
       "      <th>C</th>\n",
       "      <td>0.785333</td>\n",
       "      <td>-1.103311</td>\n",
       "    </tr>\n",
       "    <tr>\n",
       "      <th>D</th>\n",
       "      <td>0.735263</td>\n",
       "      <td>-1.765298</td>\n",
       "    </tr>\n",
       "  </tbody>\n",
       "</table>\n",
       "</div>"
      ],
      "text/plain": [
       "          X         Z\n",
       "A  0.022413  1.877668\n",
       "B  0.036480 -0.610612\n",
       "C  0.785333 -1.103311\n",
       "D  0.735263 -1.765298"
      ]
     },
     "execution_count": 63,
     "metadata": {},
     "output_type": "execute_result"
    }
   ],
   "source": [
    "df_1[df_1['X']>0][['X', 'Z']]"
   ]
  },
  {
   "cell_type": "code",
   "execution_count": 66,
   "id": "e6ecf24f-5480-40ba-96d5-6a13d52f7e1a",
   "metadata": {},
   "outputs": [
    {
     "data": {
      "text/html": [
       "<div>\n",
       "<style scoped>\n",
       "    .dataframe tbody tr th:only-of-type {\n",
       "        vertical-align: middle;\n",
       "    }\n",
       "\n",
       "    .dataframe tbody tr th {\n",
       "        vertical-align: top;\n",
       "    }\n",
       "\n",
       "    .dataframe thead th {\n",
       "        text-align: right;\n",
       "    }\n",
       "</style>\n",
       "<table border=\"1\" class=\"dataframe\">\n",
       "  <thead>\n",
       "    <tr style=\"text-align: right;\">\n",
       "      <th></th>\n",
       "      <th>W</th>\n",
       "      <th>X</th>\n",
       "      <th>Y</th>\n",
       "      <th>Z</th>\n",
       "    </tr>\n",
       "  </thead>\n",
       "  <tbody>\n",
       "    <tr>\n",
       "      <th>B</th>\n",
       "      <td>0.948102</td>\n",
       "      <td>0.036480</td>\n",
       "      <td>-0.019842</td>\n",
       "      <td>-0.610612</td>\n",
       "    </tr>\n",
       "    <tr>\n",
       "      <th>C</th>\n",
       "      <td>0.283306</td>\n",
       "      <td>0.785333</td>\n",
       "      <td>0.529830</td>\n",
       "      <td>-1.103311</td>\n",
       "    </tr>\n",
       "    <tr>\n",
       "      <th>E</th>\n",
       "      <td>0.919681</td>\n",
       "      <td>-1.930148</td>\n",
       "      <td>-0.158791</td>\n",
       "      <td>-0.098103</td>\n",
       "    </tr>\n",
       "  </tbody>\n",
       "</table>\n",
       "</div>"
      ],
      "text/plain": [
       "          W         X         Y         Z\n",
       "B  0.948102  0.036480 -0.019842 -0.610612\n",
       "C  0.283306  0.785333  0.529830 -1.103311\n",
       "E  0.919681 -1.930148 -0.158791 -0.098103"
      ]
     },
     "execution_count": 66,
     "metadata": {},
     "output_type": "execute_result"
    }
   ],
   "source": [
    "df_1[(df_1['W']>0) & (df['Y'])]"
   ]
  },
  {
   "cell_type": "code",
   "execution_count": 69,
   "id": "6bcb3725-7e98-4b91-a808-ae3858cae13d",
   "metadata": {},
   "outputs": [
    {
     "data": {
      "text/html": [
       "<div>\n",
       "<style scoped>\n",
       "    .dataframe tbody tr th:only-of-type {\n",
       "        vertical-align: middle;\n",
       "    }\n",
       "\n",
       "    .dataframe tbody tr th {\n",
       "        vertical-align: top;\n",
       "    }\n",
       "\n",
       "    .dataframe thead th {\n",
       "        text-align: right;\n",
       "    }\n",
       "</style>\n",
       "<table border=\"1\" class=\"dataframe\">\n",
       "  <thead>\n",
       "    <tr style=\"text-align: right;\">\n",
       "      <th></th>\n",
       "      <th>W</th>\n",
       "      <th>X</th>\n",
       "      <th>Y</th>\n",
       "      <th>Z</th>\n",
       "    </tr>\n",
       "  </thead>\n",
       "  <tbody>\n",
       "    <tr>\n",
       "      <th>C</th>\n",
       "      <td>0.283306</td>\n",
       "      <td>0.785333</td>\n",
       "      <td>0.52983</td>\n",
       "      <td>-1.103311</td>\n",
       "    </tr>\n",
       "  </tbody>\n",
       "</table>\n",
       "</div>"
      ],
      "text/plain": [
       "          W         X        Y         Z\n",
       "C  0.283306  0.785333  0.52983 -1.103311"
      ]
     },
     "execution_count": 69,
     "metadata": {},
     "output_type": "execute_result"
    }
   ],
   "source": [
    "conditional1 = (df_1['W'] > 0)\n",
    "conditional2 = (df_1['Y'] > 0)\n",
    "df_1[conditional1 & conditional2]"
   ]
  },
  {
   "cell_type": "code",
   "execution_count": 70,
   "id": "ce83357e-b575-4621-afb2-ac1b5d6c7828",
   "metadata": {},
   "outputs": [
    {
     "data": {
      "text/html": [
       "<div>\n",
       "<style scoped>\n",
       "    .dataframe tbody tr th:only-of-type {\n",
       "        vertical-align: middle;\n",
       "    }\n",
       "\n",
       "    .dataframe tbody tr th {\n",
       "        vertical-align: top;\n",
       "    }\n",
       "\n",
       "    .dataframe thead th {\n",
       "        text-align: right;\n",
       "    }\n",
       "</style>\n",
       "<table border=\"1\" class=\"dataframe\">\n",
       "  <thead>\n",
       "    <tr style=\"text-align: right;\">\n",
       "      <th></th>\n",
       "      <th>index</th>\n",
       "      <th>W</th>\n",
       "      <th>X</th>\n",
       "      <th>Y</th>\n",
       "      <th>Z</th>\n",
       "    </tr>\n",
       "  </thead>\n",
       "  <tbody>\n",
       "    <tr>\n",
       "      <th>0</th>\n",
       "      <td>A</td>\n",
       "      <td>-0.742605</td>\n",
       "      <td>0.022413</td>\n",
       "      <td>0.290848</td>\n",
       "      <td>1.877668</td>\n",
       "    </tr>\n",
       "    <tr>\n",
       "      <th>1</th>\n",
       "      <td>B</td>\n",
       "      <td>0.948102</td>\n",
       "      <td>0.036480</td>\n",
       "      <td>-0.019842</td>\n",
       "      <td>-0.610612</td>\n",
       "    </tr>\n",
       "    <tr>\n",
       "      <th>2</th>\n",
       "      <td>C</td>\n",
       "      <td>0.283306</td>\n",
       "      <td>0.785333</td>\n",
       "      <td>0.529830</td>\n",
       "      <td>-1.103311</td>\n",
       "    </tr>\n",
       "    <tr>\n",
       "      <th>3</th>\n",
       "      <td>D</td>\n",
       "      <td>-0.344585</td>\n",
       "      <td>0.735263</td>\n",
       "      <td>1.994541</td>\n",
       "      <td>-1.765298</td>\n",
       "    </tr>\n",
       "    <tr>\n",
       "      <th>4</th>\n",
       "      <td>E</td>\n",
       "      <td>0.919681</td>\n",
       "      <td>-1.930148</td>\n",
       "      <td>-0.158791</td>\n",
       "      <td>-0.098103</td>\n",
       "    </tr>\n",
       "  </tbody>\n",
       "</table>\n",
       "</div>"
      ],
      "text/plain": [
       "  index         W         X         Y         Z\n",
       "0     A -0.742605  0.022413  0.290848  1.877668\n",
       "1     B  0.948102  0.036480 -0.019842 -0.610612\n",
       "2     C  0.283306  0.785333  0.529830 -1.103311\n",
       "3     D -0.344585  0.735263  1.994541 -1.765298\n",
       "4     E  0.919681 -1.930148 -0.158791 -0.098103"
      ]
     },
     "execution_count": 70,
     "metadata": {},
     "output_type": "execute_result"
    }
   ],
   "source": [
    "df_1.reset_index()"
   ]
  },
  {
   "cell_type": "code",
   "execution_count": null,
   "id": "752becbf-bd21-46fe-988a-42ab769c65a0",
   "metadata": {},
   "outputs": [],
   "source": [
    "novo_indice = 'ca qa sw de fr'.upper().split()\n",
    "df_1.set_index('new column')"
   ]
  }
 ],
 "metadata": {
  "kernelspec": {
   "display_name": "Python 3 (ipykernel)",
   "language": "python",
   "name": "python3"
  },
  "language_info": {
   "codemirror_mode": {
    "name": "ipython",
    "version": 3
   },
   "file_extension": ".py",
   "mimetype": "text/x-python",
   "name": "python",
   "nbconvert_exporter": "python",
   "pygments_lexer": "ipython3",
   "version": "3.10.9"
  }
 },
 "nbformat": 4,
 "nbformat_minor": 5
}
